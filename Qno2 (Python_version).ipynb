{
 "cells": [
  {
   "cell_type": "code",
   "execution_count": 5,
   "id": "a9817d94",
   "metadata": {},
   "outputs": [
    {
     "name": "stdout",
     "output_type": "stream",
     "text": [
      "Current Version: 3.8.8\n"
     ]
    }
   ],
   "source": [
    "from platform import  python_version\n",
    "print(\"Current Version: \"+python_version())"
   ]
  },
  {
   "cell_type": "code",
   "execution_count": null,
   "id": "ae2c93e2",
   "metadata": {},
   "outputs": [],
   "source": []
  }
 ],
 "metadata": {
  "kernelspec": {
   "display_name": "Python 3",
   "language": "python",
   "name": "python3"
  },
  "language_info": {
   "codemirror_mode": {
    "name": "ipython",
    "version": 3
   },
   "file_extension": ".py",
   "mimetype": "text/x-python",
   "name": "python",
   "nbconvert_exporter": "python",
   "pygments_lexer": "ipython3",
   "version": "3.8.8"
  }
 },
 "nbformat": 4,
 "nbformat_minor": 5
}
