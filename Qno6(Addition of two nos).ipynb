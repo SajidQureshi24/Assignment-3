{
 "cells": [
  {
   "cell_type": "markdown",
   "id": "64923615",
   "metadata": {},
   "source": []
  },
  {
   "cell_type": "code",
   "execution_count": 4,
   "id": "a3936342",
   "metadata": {},
   "outputs": [
    {
     "name": "stdout",
     "output_type": "stream",
     "text": [
      "Enter first no?6.6\n",
      "Enter second no?5.4\n",
      "Addition= 12.0\n"
     ]
    }
   ],
   "source": [
    "no1 = float(input(\"Enter first no?\"));\n",
    "no2 = float(input(\"Enter second no?\"));\n",
    "print(\"Addition=\",no1+no2);"
   ]
  }
 ],
 "metadata": {
  "kernelspec": {
   "display_name": "Python 3",
   "language": "python",
   "name": "python3"
  },
  "language_info": {
   "codemirror_mode": {
    "name": "ipython",
    "version": 3
   },
   "file_extension": ".py",
   "mimetype": "text/x-python",
   "name": "python",
   "nbconvert_exporter": "python",
   "pygments_lexer": "ipython3",
   "version": "3.8.8"
  }
 },
 "nbformat": 4,
 "nbformat_minor": 5
}
