{
 "cells": [
  {
   "cell_type": "code",
   "execution_count": 2,
   "id": "e12a28b1",
   "metadata": {},
   "outputs": [
    {
     "name": "stdout",
     "output_type": "stream",
     "text": [
      "Size of Fruits list is: 5\n"
     ]
    }
   ],
   "source": [
    "fruits=[\"Apple\",\"Banana\",\"Cheery\",\"Mango\",\"Strawberry\"];\n",
    "print(\"Size of Fruits list is:\",len(fruits));"
   ]
  },
  {
   "cell_type": "code",
   "execution_count": null,
   "id": "1762a5cd",
   "metadata": {},
   "outputs": [],
   "source": []
  }
 ],
 "metadata": {
  "kernelspec": {
   "display_name": "Python 3",
   "language": "python",
   "name": "python3"
  },
  "language_info": {
   "codemirror_mode": {
    "name": "ipython",
    "version": 3
   },
   "file_extension": ".py",
   "mimetype": "text/x-python",
   "name": "python",
   "nbconvert_exporter": "python",
   "pygments_lexer": "ipython3",
   "version": "3.8.8"
  }
 },
 "nbformat": 4,
 "nbformat_minor": 5
}
