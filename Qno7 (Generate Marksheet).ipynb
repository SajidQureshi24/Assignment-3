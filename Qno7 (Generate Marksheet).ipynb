{
 "cells": [
  {
   "cell_type": "code",
   "execution_count": 1,
   "id": "480b05a0",
   "metadata": {},
   "outputs": [
    {
     "name": "stdout",
     "output_type": "stream",
     "text": [
      "Enter english number70\n",
      "Enter islamiyat number60\n",
      "Enter maths number40\n",
      "Enter chemistry number30\n",
      "Enter physics number20\n",
      "Total marks:  300\n",
      "obtained marks: 220.0\n",
      "Percetage: 73.33333333333333\n",
      "Grade:  A \n"
     ]
    }
   ],
   "source": [
    "eng = float(input(\"Enter english number\"));\n",
    "isl = float(input(\"Enter islamiyat number\"));\n",
    "maths=float(input(\"Enter maths number\"));\n",
    "chemistry=float(input(\"Enter chemistry number\"));\n",
    "physics=float(input(\"Enter physics number\"));\n",
    "\n",
    "total_marks = 300;\n",
    "obtained_marks = eng+isl+maths+chemistry+physics;\n",
    "percentage = (obtained_marks/total_marks)*100;\n",
    "grade=\"\";\n",
    "\n",
    "if percentage >=80 and percentage <=100:\n",
    "    grade = \"A+ Grade\";\n",
    "\n",
    "elif percentage >=70 and percentage <80:\n",
    "    grade =  \"A \";\n",
    "\n",
    "elif percentage >=60 and percentage <70:\n",
    "    grade = \"B \";\n",
    "\n",
    "elif percentage >=50 and percentage <60:\n",
    "    grade = \"C \";\n",
    "\n",
    "elif percentage >=40 and percentage <50:\n",
    "    grade = \"D \";\n",
    "\n",
    "elif percentage >=33 and percentage <40:\n",
    "    grade = \"E \";\n",
    "\n",
    "elif percentage >=0 and percentage < 33:\n",
    "    grade= \"fail\";\n",
    "\n",
    "else:\n",
    "    print(\"you can not enter inappropriate percentage\");\n",
    "\n",
    "if percentage >=0:   \n",
    "    print(\"Total marks: \",total_marks);\n",
    "    print(\"obtained marks:\",obtained_marks)\n",
    "    print(\"Percetage:\",percentage);\n",
    "    print(\"Grade: \",grade);\n",
    "    "
   ]
  },
  {
   "cell_type": "code",
   "execution_count": null,
   "id": "bff7b28b",
   "metadata": {},
   "outputs": [],
   "source": [
    "\n"
   ]
  },
  {
   "cell_type": "code",
   "execution_count": null,
   "id": "f77988aa",
   "metadata": {},
   "outputs": [],
   "source": []
  },
  {
   "cell_type": "code",
   "execution_count": null,
   "id": "ee5889c7",
   "metadata": {},
   "outputs": [],
   "source": []
  },
  {
   "cell_type": "code",
   "execution_count": null,
   "id": "a88d5edc",
   "metadata": {},
   "outputs": [],
   "source": []
  },
  {
   "cell_type": "code",
   "execution_count": null,
   "id": "af06b3d0",
   "metadata": {},
   "outputs": [],
   "source": []
  },
  {
   "cell_type": "code",
   "execution_count": null,
   "id": "7b1439de",
   "metadata": {},
   "outputs": [],
   "source": []
  }
 ],
 "metadata": {
  "kernelspec": {
   "display_name": "Python 3",
   "language": "python",
   "name": "python3"
  },
  "language_info": {
   "codemirror_mode": {
    "name": "ipython",
    "version": 3
   },
   "file_extension": ".py",
   "mimetype": "text/x-python",
   "name": "python",
   "nbconvert_exporter": "python",
   "pygments_lexer": "ipython3",
   "version": "3.8.8"
  }
 },
 "nbformat": 4,
 "nbformat_minor": 5
}
