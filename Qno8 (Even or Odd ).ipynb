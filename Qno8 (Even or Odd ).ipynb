{
 "cells": [
  {
   "cell_type": "code",
   "execution_count": null,
   "id": "a083b49e",
   "metadata": {},
   "outputs": [],
   "source": [
    "number = int(input(\"Enter a number for checking even or odd ?\"));\n",
    "\n",
    "if number<0:\n",
    "    print(\"number should no be less than zero/negative number.\");\n",
    "elif number%2==0:\n",
    "    print(number ,\" is even number\");\n",
    "else:\n",
    "    print(number,\" Odd number\");"
   ]
  },
  {
   "cell_type": "code",
   "execution_count": null,
   "id": "55ce22e4",
   "metadata": {},
   "outputs": [],
   "source": []
  }
 ],
 "metadata": {
  "kernelspec": {
   "display_name": "Python 3",
   "language": "python",
   "name": "python3"
  },
  "language_info": {
   "codemirror_mode": {
    "name": "ipython",
    "version": 3
   },
   "file_extension": ".py",
   "mimetype": "text/x-python",
   "name": "python",
   "nbconvert_exporter": "python",
   "pygments_lexer": "ipython3",
   "version": "3.8.8"
  }
 },
 "nbformat": 4,
 "nbformat_minor": 5
}
